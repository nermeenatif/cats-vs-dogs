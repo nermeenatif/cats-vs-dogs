{
 "cells": [
  {
   "cell_type": "code",
   "execution_count": 1,
   "id": "681e8e0d",
   "metadata": {
    "_cell_guid": "b1076dfc-b9ad-4769-8c92-a6c4dae69d19",
    "_uuid": "8f2839f25d086af736a60e9eeb907d3b93b6e0e5",
    "execution": {
     "iopub.execute_input": "2022-04-08T13:39:13.705215Z",
     "iopub.status.busy": "2022-04-08T13:39:13.700630Z",
     "iopub.status.idle": "2022-04-08T13:39:19.347375Z",
     "shell.execute_reply": "2022-04-08T13:39:19.346780Z",
     "shell.execute_reply.started": "2022-04-08T13:21:13.313461Z"
    },
    "papermill": {
     "duration": 5.678311,
     "end_time": "2022-04-08T13:39:19.347532",
     "exception": false,
     "start_time": "2022-04-08T13:39:13.669221",
     "status": "completed"
    },
    "tags": []
   },
   "outputs": [
    {
     "name": "stdout",
     "output_type": "stream",
     "text": [
      "/kaggle/input/dogs-vs-cats/test1.zip\n",
      "/kaggle/input/dogs-vs-cats/train.zip\n",
      "/kaggle/input/dogs-vs-cats/sampleSubmission.csv\n"
     ]
    }
   ],
   "source": [
    "# This Python 3 environment comes with many helpful analytics libraries installed\n",
    "# It is defined by the kaggle/python Docker image: https://github.com/kaggle/docker-python\n",
    "# For example, here's several helpful packages to load\n",
    "\n",
    "\n",
    "\n",
    "# Input data files are available in the read-only \"../input/\" directory\n",
    "# For example, running this (by clicking run or pressing Shift+Enter) will list all files under the input directory\n",
    "from keras.preprocessing.image import load_img\n",
    "from keras.preprocessing.image import img_to_array\n",
    "from keras.preprocessing.image import ImageDataGenerator\n",
    "from keras.applications.vgg16 import VGG16\n",
    "from keras.applications.vgg16 import preprocess_input\n",
    "from keras.applications.imagenet_utils import decode_predictions\n",
    "from keras import models\n",
    "from keras import layers\n",
    "from keras.models import Model\n",
    "from pickle import dump\n",
    "from keras.layers import Dense\n",
    "from keras.layers import Flatten\n",
    "from keras import losses \n",
    "from keras import optimizers \n",
    "from keras import metrics \n",
    "import os\n",
    "import zipfile\n",
    "import numpy as np # linear algebra\n",
    "import pandas as pd # data processing, CSV file I/O (e.g. pd.read_csv)\n",
    "from sklearn.model_selection import train_test_split\n",
    "import matplotlib.pyplot as plt\n",
    "\n",
    "for dirname, _, filenames in os.walk('/kaggle/input'):\n",
    "    for filename in filenames:\n",
    "        print(os.path.join(dirname, filename))\n",
    "\n",
    "# You can write up to 20GB to the current directory (/kaggle/working/) that gets preserved as output when you create a version using \"Save & Run All\" \n",
    "# You can also write temporary files to /kaggle/temp/, but they won't be saved outside of the current session"
   ]
  },
  {
   "cell_type": "markdown",
   "id": "9bcfb1b5",
   "metadata": {
    "papermill": {
     "duration": 0.022169,
     "end_time": "2022-04-08T13:39:19.393947",
     "exception": false,
     "start_time": "2022-04-08T13:39:19.371778",
     "status": "completed"
    },
    "tags": []
   },
   "source": [
    "# 1.  unzipped file"
   ]
  },
  {
   "cell_type": "code",
   "execution_count": 2,
   "id": "db48aeb8",
   "metadata": {
    "execution": {
     "iopub.execute_input": "2022-04-08T13:39:19.444256Z",
     "iopub.status.busy": "2022-04-08T13:39:19.443499Z",
     "iopub.status.idle": "2022-04-08T13:39:35.681857Z",
     "shell.execute_reply": "2022-04-08T13:39:35.681232Z",
     "shell.execute_reply.started": "2022-04-08T13:21:18.430702Z"
    },
    "papermill": {
     "duration": 16.264848,
     "end_time": "2022-04-08T13:39:35.682026",
     "exception": false,
     "start_time": "2022-04-08T13:39:19.417178",
     "status": "completed"
    },
    "tags": []
   },
   "outputs": [
    {
     "name": "stdout",
     "output_type": "stream",
     "text": [
      "test1 unzipped\n",
      "train unzipped\n"
     ]
    }
   ],
   "source": [
    "\n",
    "zip_files = ['test1', 'train']\n",
    "# Will unzip the files so that you can see them..\n",
    "for zip_file in zip_files:\n",
    "    with zipfile.ZipFile(\"../input/dogs-vs-cats/{}.zip\".format(zip_file),\"r\") as z:\n",
    "        z.extractall(\".\")\n",
    "        print(\"{} unzipped\".format(zip_file))"
   ]
  },
  {
   "cell_type": "code",
   "execution_count": 3,
   "id": "388d89af",
   "metadata": {
    "execution": {
     "iopub.execute_input": "2022-04-08T13:39:35.731721Z",
     "iopub.status.busy": "2022-04-08T13:39:35.731227Z",
     "iopub.status.idle": "2022-04-08T13:39:35.736651Z",
     "shell.execute_reply": "2022-04-08T13:39:35.736249Z",
     "shell.execute_reply.started": "2022-04-08T12:09:25.283827Z"
    },
    "papermill": {
     "duration": 0.031311,
     "end_time": "2022-04-08T13:39:35.736753",
     "exception": false,
     "start_time": "2022-04-08T13:39:35.705442",
     "status": "completed"
    },
    "tags": []
   },
   "outputs": [
    {
     "name": "stdout",
     "output_type": "stream",
     "text": [
      "['test1.zip', 'train.zip', 'sampleSubmission.csv']\n"
     ]
    }
   ],
   "source": [
    "print(os.listdir('../input/dogs-vs-cats'))"
   ]
  },
  {
   "cell_type": "markdown",
   "id": "236d2fe1",
   "metadata": {
    "papermill": {
     "duration": 0.024246,
     "end_time": "2022-04-08T13:39:35.783778",
     "exception": false,
     "start_time": "2022-04-08T13:39:35.759532",
     "status": "completed"
    },
    "tags": []
   },
   "source": [
    "# 2.prepare data"
   ]
  },
  {
   "cell_type": "code",
   "execution_count": 4,
   "id": "0397cf16",
   "metadata": {
    "execution": {
     "iopub.execute_input": "2022-04-08T13:39:35.833946Z",
     "iopub.status.busy": "2022-04-08T13:39:35.833215Z",
     "iopub.status.idle": "2022-04-08T13:39:35.848774Z",
     "shell.execute_reply": "2022-04-08T13:39:35.848356Z",
     "shell.execute_reply.started": "2022-04-08T13:22:50.430968Z"
    },
    "papermill": {
     "duration": 0.042147,
     "end_time": "2022-04-08T13:39:35.848897",
     "exception": false,
     "start_time": "2022-04-08T13:39:35.806750",
     "status": "completed"
    },
    "tags": []
   },
   "outputs": [],
   "source": [
    "IMAGE_FOLDER_PATH=\"../working/train\"\n",
    "FILE_NAMES=os.listdir(IMAGE_FOLDER_PATH)\n",
    "WIDTH=150\n",
    "HEIGHT=150"
   ]
  },
  {
   "cell_type": "code",
   "execution_count": 5,
   "id": "1c6675c4",
   "metadata": {
    "execution": {
     "iopub.execute_input": "2022-04-08T13:39:35.911634Z",
     "iopub.status.busy": "2022-04-08T13:39:35.906585Z",
     "iopub.status.idle": "2022-04-08T13:39:35.978770Z",
     "shell.execute_reply": "2022-04-08T13:39:35.978250Z",
     "shell.execute_reply.started": "2022-04-08T13:22:53.650856Z"
    },
    "papermill": {
     "duration": 0.107384,
     "end_time": "2022-04-08T13:39:35.978887",
     "exception": false,
     "start_time": "2022-04-08T13:39:35.871503",
     "status": "completed"
    },
    "tags": []
   },
   "outputs": [],
   "source": [
    "targets=list()\n",
    "full_paths=list()\n",
    "for file_name in FILE_NAMES:\n",
    "    target=file_name.split(\".\")[0]\n",
    "    full_path=os.path.join(IMAGE_FOLDER_PATH, file_name)\n",
    "    full_paths.append(full_path)\n",
    "    targets.append(target)\n",
    "\n",
    "dataset=pd.DataFrame()\n",
    "dataset['image_path']=full_paths\n",
    "dataset['target']=targets"
   ]
  },
  {
   "cell_type": "code",
   "execution_count": 6,
   "id": "f6f5dea3",
   "metadata": {
    "execution": {
     "iopub.execute_input": "2022-04-08T13:39:36.030177Z",
     "iopub.status.busy": "2022-04-08T13:39:36.029367Z",
     "iopub.status.idle": "2022-04-08T13:39:36.040210Z",
     "shell.execute_reply": "2022-04-08T13:39:36.040604Z",
     "shell.execute_reply.started": "2022-04-08T11:43:22.868632Z"
    },
    "papermill": {
     "duration": 0.039281,
     "end_time": "2022-04-08T13:39:36.040730",
     "exception": false,
     "start_time": "2022-04-08T13:39:36.001449",
     "status": "completed"
    },
    "tags": []
   },
   "outputs": [
    {
     "data": {
      "text/html": [
       "<div>\n",
       "<style scoped>\n",
       "    .dataframe tbody tr th:only-of-type {\n",
       "        vertical-align: middle;\n",
       "    }\n",
       "\n",
       "    .dataframe tbody tr th {\n",
       "        vertical-align: top;\n",
       "    }\n",
       "\n",
       "    .dataframe thead th {\n",
       "        text-align: right;\n",
       "    }\n",
       "</style>\n",
       "<table border=\"1\" class=\"dataframe\">\n",
       "  <thead>\n",
       "    <tr style=\"text-align: right;\">\n",
       "      <th></th>\n",
       "      <th>image_path</th>\n",
       "      <th>target</th>\n",
       "    </tr>\n",
       "  </thead>\n",
       "  <tbody>\n",
       "    <tr>\n",
       "      <th>0</th>\n",
       "      <td>../working/train/cat.11063.jpg</td>\n",
       "      <td>cat</td>\n",
       "    </tr>\n",
       "    <tr>\n",
       "      <th>1</th>\n",
       "      <td>../working/train/cat.4114.jpg</td>\n",
       "      <td>cat</td>\n",
       "    </tr>\n",
       "    <tr>\n",
       "      <th>2</th>\n",
       "      <td>../working/train/cat.10308.jpg</td>\n",
       "      <td>cat</td>\n",
       "    </tr>\n",
       "    <tr>\n",
       "      <th>3</th>\n",
       "      <td>../working/train/cat.10945.jpg</td>\n",
       "      <td>cat</td>\n",
       "    </tr>\n",
       "    <tr>\n",
       "      <th>4</th>\n",
       "      <td>../working/train/dog.4963.jpg</td>\n",
       "      <td>dog</td>\n",
       "    </tr>\n",
       "    <tr>\n",
       "      <th>5</th>\n",
       "      <td>../working/train/dog.6677.jpg</td>\n",
       "      <td>dog</td>\n",
       "    </tr>\n",
       "    <tr>\n",
       "      <th>6</th>\n",
       "      <td>../working/train/dog.5194.jpg</td>\n",
       "      <td>dog</td>\n",
       "    </tr>\n",
       "    <tr>\n",
       "      <th>7</th>\n",
       "      <td>../working/train/cat.4220.jpg</td>\n",
       "      <td>cat</td>\n",
       "    </tr>\n",
       "    <tr>\n",
       "      <th>8</th>\n",
       "      <td>../working/train/dog.6700.jpg</td>\n",
       "      <td>dog</td>\n",
       "    </tr>\n",
       "    <tr>\n",
       "      <th>9</th>\n",
       "      <td>../working/train/cat.317.jpg</td>\n",
       "      <td>cat</td>\n",
       "    </tr>\n",
       "  </tbody>\n",
       "</table>\n",
       "</div>"
      ],
      "text/plain": [
       "                       image_path target\n",
       "0  ../working/train/cat.11063.jpg    cat\n",
       "1   ../working/train/cat.4114.jpg    cat\n",
       "2  ../working/train/cat.10308.jpg    cat\n",
       "3  ../working/train/cat.10945.jpg    cat\n",
       "4   ../working/train/dog.4963.jpg    dog\n",
       "5   ../working/train/dog.6677.jpg    dog\n",
       "6   ../working/train/dog.5194.jpg    dog\n",
       "7   ../working/train/cat.4220.jpg    cat\n",
       "8   ../working/train/dog.6700.jpg    dog\n",
       "9    ../working/train/cat.317.jpg    cat"
      ]
     },
     "execution_count": 6,
     "metadata": {},
     "output_type": "execute_result"
    }
   ],
   "source": [
    "dataset.head(10)"
   ]
  },
  {
   "cell_type": "markdown",
   "id": "94573176",
   "metadata": {
    "papermill": {
     "duration": 0.0238,
     "end_time": "2022-04-08T13:39:36.088064",
     "exception": false,
     "start_time": "2022-04-08T13:39:36.064264",
     "status": "completed"
    },
    "tags": []
   },
   "source": [
    "# 3. image processing"
   ]
  },
  {
   "cell_type": "code",
   "execution_count": 7,
   "id": "5dee2079",
   "metadata": {
    "execution": {
     "iopub.execute_input": "2022-04-08T13:39:36.140788Z",
     "iopub.status.busy": "2022-04-08T13:39:36.140299Z",
     "iopub.status.idle": "2022-04-08T13:39:36.146419Z",
     "shell.execute_reply": "2022-04-08T13:39:36.146819Z",
     "shell.execute_reply.started": "2022-04-08T13:23:00.607631Z"
    },
    "papermill": {
     "duration": 0.035478,
     "end_time": "2022-04-08T13:39:36.147008",
     "exception": false,
     "start_time": "2022-04-08T13:39:36.111530",
     "status": "completed"
    },
    "tags": []
   },
   "outputs": [],
   "source": [
    "dataset_train, dataset_test=train_test_split(dataset,\n",
    "                                                 test_size=0.2,\n",
    "                                                 random_state=42)"
   ]
  },
  {
   "cell_type": "code",
   "execution_count": 8,
   "id": "33c61088",
   "metadata": {
    "execution": {
     "iopub.execute_input": "2022-04-08T13:39:36.197974Z",
     "iopub.status.busy": "2022-04-08T13:39:36.197428Z",
     "iopub.status.idle": "2022-04-08T13:39:36.200379Z",
     "shell.execute_reply": "2022-04-08T13:39:36.200767Z",
     "shell.execute_reply.started": "2022-04-08T13:23:09.134916Z"
    },
    "papermill": {
     "duration": 0.030657,
     "end_time": "2022-04-08T13:39:36.200921",
     "exception": false,
     "start_time": "2022-04-08T13:39:36.170264",
     "status": "completed"
    },
    "tags": []
   },
   "outputs": [],
   "source": [
    "train_datagen=ImageDataGenerator(\n",
    "rotation_range=15,\n",
    "rescale=1./255,\n",
    "shear_range=0.1,\n",
    "zoom_range=0.2,\n",
    "horizontal_flip=True,\n",
    "width_shift_range=0.1,\n",
    "height_shift_range=0.1)"
   ]
  },
  {
   "cell_type": "code",
   "execution_count": 9,
   "id": "10a9a967",
   "metadata": {
    "execution": {
     "iopub.execute_input": "2022-04-08T13:39:36.251442Z",
     "iopub.status.busy": "2022-04-08T13:39:36.250724Z",
     "iopub.status.idle": "2022-04-08T13:39:36.919907Z",
     "shell.execute_reply": "2022-04-08T13:39:36.920767Z",
     "shell.execute_reply.started": "2022-04-08T13:23:12.315444Z"
    },
    "papermill": {
     "duration": 0.696903,
     "end_time": "2022-04-08T13:39:36.920980",
     "exception": false,
     "start_time": "2022-04-08T13:39:36.224077",
     "status": "completed"
    },
    "tags": []
   },
   "outputs": [
    {
     "name": "stdout",
     "output_type": "stream",
     "text": [
      "Found 20000 validated image filenames belonging to 2 classes.\n"
     ]
    }
   ],
   "source": [
    "train_datagenerator=train_datagen.flow_from_dataframe(dataframe=dataset_train,\n",
    "                                                     x_col=\"image_path\",\n",
    "                                                     y_col=\"target\",\n",
    "                                                     target_size=(WIDTH, HEIGHT),\n",
    "                                                     class_mode=\"binary\",\n",
    "                                                     batch_size=150)"
   ]
  },
  {
   "cell_type": "code",
   "execution_count": 10,
   "id": "2d095a26",
   "metadata": {
    "execution": {
     "iopub.execute_input": "2022-04-08T13:39:37.011770Z",
     "iopub.status.busy": "2022-04-08T13:39:37.011051Z",
     "iopub.status.idle": "2022-04-08T13:39:37.094933Z",
     "shell.execute_reply": "2022-04-08T13:39:37.094456Z",
     "shell.execute_reply.started": "2022-04-08T13:23:18.819880Z"
    },
    "papermill": {
     "duration": 0.131379,
     "end_time": "2022-04-08T13:39:37.095067",
     "exception": false,
     "start_time": "2022-04-08T13:39:36.963688",
     "status": "completed"
    },
    "tags": []
   },
   "outputs": [
    {
     "name": "stdout",
     "output_type": "stream",
     "text": [
      "Found 5000 validated image filenames belonging to 2 classes.\n"
     ]
    }
   ],
   "source": [
    "test_datagen=ImageDataGenerator(rescale=1./255)\n",
    "test_datagenerator=test_datagen.flow_from_dataframe(dataframe=dataset_test,\n",
    "                                                   x_col=\"image_path\",\n",
    "                                                   y_col=\"target\",\n",
    "                                                   target_size=(WIDTH, HEIGHT),\n",
    "                                                   class_mode=\"binary\",\n",
    "                                                   batch_size=150)"
   ]
  },
  {
   "cell_type": "markdown",
   "id": "337ff398",
   "metadata": {
    "papermill": {
     "duration": 0.0237,
     "end_time": "2022-04-08T13:39:37.147778",
     "exception": false,
     "start_time": "2022-04-08T13:39:37.124078",
     "status": "completed"
    },
    "tags": []
   },
   "source": [
    "# 4.transfer learning (features extraction)"
   ]
  },
  {
   "cell_type": "code",
   "execution_count": 11,
   "id": "f2785865",
   "metadata": {
    "execution": {
     "iopub.execute_input": "2022-04-08T13:39:37.202251Z",
     "iopub.status.busy": "2022-04-08T13:39:37.201689Z",
     "iopub.status.idle": "2022-04-08T13:39:40.391496Z",
     "shell.execute_reply": "2022-04-08T13:39:40.390986Z",
     "shell.execute_reply.started": "2022-04-08T12:11:53.083095Z"
    },
    "papermill": {
     "duration": 3.219965,
     "end_time": "2022-04-08T13:39:40.391633",
     "exception": false,
     "start_time": "2022-04-08T13:39:37.171668",
     "status": "completed"
    },
    "tags": []
   },
   "outputs": [
    {
     "name": "stderr",
     "output_type": "stream",
     "text": [
      "2022-04-08 13:39:37.297679: I tensorflow/stream_executor/cuda/cuda_gpu_executor.cc:937] successful NUMA node read from SysFS had negative value (-1), but there must be at least one NUMA node, so returning NUMA node zero\n",
      "2022-04-08 13:39:37.404459: I tensorflow/stream_executor/cuda/cuda_gpu_executor.cc:937] successful NUMA node read from SysFS had negative value (-1), but there must be at least one NUMA node, so returning NUMA node zero\n",
      "2022-04-08 13:39:37.405342: I tensorflow/stream_executor/cuda/cuda_gpu_executor.cc:937] successful NUMA node read from SysFS had negative value (-1), but there must be at least one NUMA node, so returning NUMA node zero\n",
      "2022-04-08 13:39:37.406627: I tensorflow/core/platform/cpu_feature_guard.cc:142] This TensorFlow binary is optimized with oneAPI Deep Neural Network Library (oneDNN) to use the following CPU instructions in performance-critical operations:  AVX2 AVX512F FMA\n",
      "To enable them in other operations, rebuild TensorFlow with the appropriate compiler flags.\n",
      "2022-04-08 13:39:37.407800: I tensorflow/stream_executor/cuda/cuda_gpu_executor.cc:937] successful NUMA node read from SysFS had negative value (-1), but there must be at least one NUMA node, so returning NUMA node zero\n",
      "2022-04-08 13:39:37.408508: I tensorflow/stream_executor/cuda/cuda_gpu_executor.cc:937] successful NUMA node read from SysFS had negative value (-1), but there must be at least one NUMA node, so returning NUMA node zero\n",
      "2022-04-08 13:39:37.409186: I tensorflow/stream_executor/cuda/cuda_gpu_executor.cc:937] successful NUMA node read from SysFS had negative value (-1), but there must be at least one NUMA node, so returning NUMA node zero\n",
      "2022-04-08 13:39:39.335815: I tensorflow/stream_executor/cuda/cuda_gpu_executor.cc:937] successful NUMA node read from SysFS had negative value (-1), but there must be at least one NUMA node, so returning NUMA node zero\n",
      "2022-04-08 13:39:39.336760: I tensorflow/stream_executor/cuda/cuda_gpu_executor.cc:937] successful NUMA node read from SysFS had negative value (-1), but there must be at least one NUMA node, so returning NUMA node zero\n",
      "2022-04-08 13:39:39.337476: I tensorflow/stream_executor/cuda/cuda_gpu_executor.cc:937] successful NUMA node read from SysFS had negative value (-1), but there must be at least one NUMA node, so returning NUMA node zero\n",
      "2022-04-08 13:39:39.338106: I tensorflow/core/common_runtime/gpu/gpu_device.cc:1510] Created device /job:localhost/replica:0/task:0/device:GPU:0 with 15403 MB memory:  -> device: 0, name: Tesla P100-PCIE-16GB, pci bus id: 0000:00:04.0, compute capability: 6.0\n"
     ]
    },
    {
     "name": "stdout",
     "output_type": "stream",
     "text": [
      "Downloading data from https://storage.googleapis.com/tensorflow/keras-applications/vgg16/vgg16_weights_tf_dim_ordering_tf_kernels_notop.h5\n",
      "58892288/58889256 [==============================] - 0s 0us/step\n",
      "58900480/58889256 [==============================] - 0s 0us/step\n",
      "Model: \"vgg16\"\n",
      "_________________________________________________________________\n",
      "Layer (type)                 Output Shape              Param #   \n",
      "=================================================================\n",
      "input_1 (InputLayer)         [(None, 150, 150, 3)]     0         \n",
      "_________________________________________________________________\n",
      "block1_conv1 (Conv2D)        (None, 150, 150, 64)      1792      \n",
      "_________________________________________________________________\n",
      "block1_conv2 (Conv2D)        (None, 150, 150, 64)      36928     \n",
      "_________________________________________________________________\n",
      "block1_pool (MaxPooling2D)   (None, 75, 75, 64)        0         \n",
      "_________________________________________________________________\n",
      "block2_conv1 (Conv2D)        (None, 75, 75, 128)       73856     \n",
      "_________________________________________________________________\n",
      "block2_conv2 (Conv2D)        (None, 75, 75, 128)       147584    \n",
      "_________________________________________________________________\n",
      "block2_pool (MaxPooling2D)   (None, 37, 37, 128)       0         \n",
      "_________________________________________________________________\n",
      "block3_conv1 (Conv2D)        (None, 37, 37, 256)       295168    \n",
      "_________________________________________________________________\n",
      "block3_conv2 (Conv2D)        (None, 37, 37, 256)       590080    \n",
      "_________________________________________________________________\n",
      "block3_conv3 (Conv2D)        (None, 37, 37, 256)       590080    \n",
      "_________________________________________________________________\n",
      "block3_pool (MaxPooling2D)   (None, 18, 18, 256)       0         \n",
      "_________________________________________________________________\n",
      "block4_conv1 (Conv2D)        (None, 18, 18, 512)       1180160   \n",
      "_________________________________________________________________\n",
      "block4_conv2 (Conv2D)        (None, 18, 18, 512)       2359808   \n",
      "_________________________________________________________________\n",
      "block4_conv3 (Conv2D)        (None, 18, 18, 512)       2359808   \n",
      "_________________________________________________________________\n",
      "block4_pool (MaxPooling2D)   (None, 9, 9, 512)         0         \n",
      "_________________________________________________________________\n",
      "block5_conv1 (Conv2D)        (None, 9, 9, 512)         2359808   \n",
      "_________________________________________________________________\n",
      "block5_conv2 (Conv2D)        (None, 9, 9, 512)         2359808   \n",
      "_________________________________________________________________\n",
      "block5_conv3 (Conv2D)        (None, 9, 9, 512)         2359808   \n",
      "_________________________________________________________________\n",
      "block5_pool (MaxPooling2D)   (None, 4, 4, 512)         0         \n",
      "=================================================================\n",
      "Total params: 14,714,688\n",
      "Trainable params: 14,714,688\n",
      "Non-trainable params: 0\n",
      "_________________________________________________________________\n"
     ]
    }
   ],
   "source": [
    "predictmodel = VGG16(include_top=False, input_shape=(150, 150, 3),weights ='imagenet')\n",
    "predictmodel.summary()"
   ]
  },
  {
   "cell_type": "code",
   "execution_count": 12,
   "id": "e5d8ff27",
   "metadata": {
    "execution": {
     "iopub.execute_input": "2022-04-08T13:39:40.503910Z",
     "iopub.status.busy": "2022-04-08T13:39:40.503077Z",
     "iopub.status.idle": "2022-04-08T13:39:40.505416Z",
     "shell.execute_reply": "2022-04-08T13:39:40.504813Z",
     "shell.execute_reply.started": "2022-04-08T12:12:12.923742Z"
    },
    "papermill": {
     "duration": 0.081717,
     "end_time": "2022-04-08T13:39:40.505536",
     "exception": false,
     "start_time": "2022-04-08T13:39:40.423819",
     "status": "completed"
    },
    "tags": []
   },
   "outputs": [],
   "source": [
    "for layer in predictmodel.layers:\n",
    "    layer.trainable = False"
   ]
  },
  {
   "cell_type": "code",
   "execution_count": 13,
   "id": "7164c826",
   "metadata": {
    "execution": {
     "iopub.execute_input": "2022-04-08T13:39:40.566619Z",
     "iopub.status.busy": "2022-04-08T13:39:40.566006Z",
     "iopub.status.idle": "2022-04-08T13:39:40.598427Z",
     "shell.execute_reply": "2022-04-08T13:39:40.598826Z",
     "shell.execute_reply.started": "2022-04-08T12:12:16.717444Z"
    },
    "papermill": {
     "duration": 0.065673,
     "end_time": "2022-04-08T13:39:40.599003",
     "exception": false,
     "start_time": "2022-04-08T13:39:40.533330",
     "status": "completed"
    },
    "tags": []
   },
   "outputs": [
    {
     "name": "stdout",
     "output_type": "stream",
     "text": [
      "Model: \"model\"\n",
      "_________________________________________________________________\n",
      "Layer (type)                 Output Shape              Param #   \n",
      "=================================================================\n",
      "input_1 (InputLayer)         [(None, 150, 150, 3)]     0         \n",
      "_________________________________________________________________\n",
      "block1_conv1 (Conv2D)        (None, 150, 150, 64)      1792      \n",
      "_________________________________________________________________\n",
      "block1_conv2 (Conv2D)        (None, 150, 150, 64)      36928     \n",
      "_________________________________________________________________\n",
      "block1_pool (MaxPooling2D)   (None, 75, 75, 64)        0         \n",
      "_________________________________________________________________\n",
      "block2_conv1 (Conv2D)        (None, 75, 75, 128)       73856     \n",
      "_________________________________________________________________\n",
      "block2_conv2 (Conv2D)        (None, 75, 75, 128)       147584    \n",
      "_________________________________________________________________\n",
      "block2_pool (MaxPooling2D)   (None, 37, 37, 128)       0         \n",
      "_________________________________________________________________\n",
      "block3_conv1 (Conv2D)        (None, 37, 37, 256)       295168    \n",
      "_________________________________________________________________\n",
      "block3_conv2 (Conv2D)        (None, 37, 37, 256)       590080    \n",
      "_________________________________________________________________\n",
      "block3_conv3 (Conv2D)        (None, 37, 37, 256)       590080    \n",
      "_________________________________________________________________\n",
      "block3_pool (MaxPooling2D)   (None, 18, 18, 256)       0         \n",
      "_________________________________________________________________\n",
      "block4_conv1 (Conv2D)        (None, 18, 18, 512)       1180160   \n",
      "_________________________________________________________________\n",
      "block4_conv2 (Conv2D)        (None, 18, 18, 512)       2359808   \n",
      "_________________________________________________________________\n",
      "block4_conv3 (Conv2D)        (None, 18, 18, 512)       2359808   \n",
      "_________________________________________________________________\n",
      "block4_pool (MaxPooling2D)   (None, 9, 9, 512)         0         \n",
      "_________________________________________________________________\n",
      "block5_conv1 (Conv2D)        (None, 9, 9, 512)         2359808   \n",
      "_________________________________________________________________\n",
      "block5_conv2 (Conv2D)        (None, 9, 9, 512)         2359808   \n",
      "_________________________________________________________________\n",
      "block5_conv3 (Conv2D)        (None, 9, 9, 512)         2359808   \n",
      "_________________________________________________________________\n",
      "block5_pool (MaxPooling2D)   (None, 4, 4, 512)         0         \n",
      "_________________________________________________________________\n",
      "flatten (Flatten)            (None, 8192)              0         \n",
      "_________________________________________________________________\n",
      "dense (Dense)                (None, 512)               4194816   \n",
      "_________________________________________________________________\n",
      "dense_1 (Dense)              (None, 1)                 513       \n",
      "=================================================================\n",
      "Total params: 18,910,017\n",
      "Trainable params: 4,195,329\n",
      "Non-trainable params: 14,714,688\n",
      "_________________________________________________________________\n"
     ]
    }
   ],
   "source": [
    "# add new classifier layers\n",
    "flat1 = Flatten()(predictmodel.layers[-1].output)\n",
    "class1 = Dense(512, activation='relu')(flat1)\n",
    "output = Dense(1, activation='sigmoid')(class1)\n",
    "\n",
    "# define new model\n",
    "predictmodel = Model(inputs=predictmodel.inputs, outputs=output)\n",
    "# summarize\n",
    "predictmodel.summary()"
   ]
  },
  {
   "cell_type": "markdown",
   "id": "1af2d85f",
   "metadata": {
    "papermill": {
     "duration": 0.028236,
     "end_time": "2022-04-08T13:39:40.655649",
     "exception": false,
     "start_time": "2022-04-08T13:39:40.627413",
     "status": "completed"
    },
    "tags": []
   },
   "source": [
    "# 5. compile & train model."
   ]
  },
  {
   "cell_type": "code",
   "execution_count": 14,
   "id": "4c83507b",
   "metadata": {
    "execution": {
     "iopub.execute_input": "2022-04-08T13:39:40.717073Z",
     "iopub.status.busy": "2022-04-08T13:39:40.716312Z",
     "iopub.status.idle": "2022-04-08T13:39:40.726290Z",
     "shell.execute_reply": "2022-04-08T13:39:40.725735Z",
     "shell.execute_reply.started": "2022-04-08T12:12:24.253609Z"
    },
    "papermill": {
     "duration": 0.04269,
     "end_time": "2022-04-08T13:39:40.726396",
     "exception": false,
     "start_time": "2022-04-08T13:39:40.683706",
     "status": "completed"
    },
    "tags": []
   },
   "outputs": [],
   "source": [
    "predictmodel.compile(loss = 'binary_crossentropy',  \n",
    "   optimizer = 'rmsprop', metrics=[\"accuracy\"])"
   ]
  },
  {
   "cell_type": "code",
   "execution_count": 15,
   "id": "b3664ac2",
   "metadata": {
    "execution": {
     "iopub.execute_input": "2022-04-08T13:39:40.851181Z",
     "iopub.status.busy": "2022-04-08T13:39:40.850356Z",
     "iopub.status.idle": "2022-04-08T13:52:26.270490Z",
     "shell.execute_reply": "2022-04-08T13:52:26.270984Z",
     "shell.execute_reply.started": "2022-04-08T12:12:43.332453Z"
    },
    "papermill": {
     "duration": 765.51655,
     "end_time": "2022-04-08T13:52:26.271163",
     "exception": false,
     "start_time": "2022-04-08T13:39:40.754613",
     "status": "completed"
    },
    "tags": []
   },
   "outputs": [
    {
     "name": "stderr",
     "output_type": "stream",
     "text": [
      "2022-04-08 13:39:43.179366: I tensorflow/compiler/mlir/mlir_graph_optimization_pass.cc:185] None of the MLIR Optimization Passes are enabled (registered 2)\n"
     ]
    },
    {
     "name": "stdout",
     "output_type": "stream",
     "text": [
      "Epoch 1/20\n"
     ]
    },
    {
     "name": "stderr",
     "output_type": "stream",
     "text": [
      "2022-04-08 13:39:45.860184: I tensorflow/stream_executor/cuda/cuda_dnn.cc:369] Loaded cuDNN version 8005\n"
     ]
    },
    {
     "name": "stdout",
     "output_type": "stream",
     "text": [
      "20/20 [==============================] - 45s 2s/step - loss: 1.9294 - accuracy: 0.6407 - val_loss: 0.7688 - val_accuracy: 0.6663\n",
      "Epoch 2/20\n",
      "20/20 [==============================] - 32s 2s/step - loss: 0.5740 - accuracy: 0.7283 - val_loss: 0.3990 - val_accuracy: 0.8110\n",
      "Epoch 3/20\n",
      "20/20 [==============================] - 32s 2s/step - loss: 0.4776 - accuracy: 0.7603 - val_loss: 0.5703 - val_accuracy: 0.7207\n",
      "Epoch 4/20\n",
      "20/20 [==============================] - 32s 2s/step - loss: 0.4294 - accuracy: 0.7976 - val_loss: 0.3206 - val_accuracy: 0.8540\n",
      "Epoch 5/20\n",
      "20/20 [==============================] - 32s 2s/step - loss: 0.4337 - accuracy: 0.8020 - val_loss: 0.3857 - val_accuracy: 0.8170\n",
      "Epoch 6/20\n",
      "20/20 [==============================] - 32s 2s/step - loss: 0.4362 - accuracy: 0.7887 - val_loss: 0.2625 - val_accuracy: 0.8937\n",
      "Epoch 7/20\n",
      "20/20 [==============================] - 32s 2s/step - loss: 0.3758 - accuracy: 0.8250 - val_loss: 0.3809 - val_accuracy: 0.8123\n",
      "Epoch 8/20\n",
      "20/20 [==============================] - 32s 2s/step - loss: 0.3756 - accuracy: 0.8283 - val_loss: 0.3838 - val_accuracy: 0.8237\n",
      "Epoch 9/20\n",
      "20/20 [==============================] - 32s 2s/step - loss: 0.3824 - accuracy: 0.8253 - val_loss: 0.2541 - val_accuracy: 0.8873\n",
      "Epoch 10/20\n",
      "20/20 [==============================] - 32s 2s/step - loss: 0.3770 - accuracy: 0.8360 - val_loss: 0.2482 - val_accuracy: 0.8930\n",
      "Epoch 11/20\n",
      "20/20 [==============================] - 32s 2s/step - loss: 0.3518 - accuracy: 0.8377 - val_loss: 0.4125 - val_accuracy: 0.8287\n",
      "Epoch 12/20\n",
      "20/20 [==============================] - 32s 2s/step - loss: 0.3565 - accuracy: 0.8350 - val_loss: 0.2620 - val_accuracy: 0.8823\n",
      "Epoch 13/20\n",
      "20/20 [==============================] - 32s 2s/step - loss: 0.3275 - accuracy: 0.8620 - val_loss: 0.2375 - val_accuracy: 0.8947\n",
      "Epoch 14/20\n",
      "20/20 [==============================] - 31s 2s/step - loss: 0.3285 - accuracy: 0.8469 - val_loss: 0.2402 - val_accuracy: 0.8983\n",
      "Epoch 15/20\n",
      "20/20 [==============================] - 32s 2s/step - loss: 0.3507 - accuracy: 0.8437 - val_loss: 0.2375 - val_accuracy: 0.8967\n",
      "Epoch 16/20\n",
      "20/20 [==============================] - 31s 2s/step - loss: 0.3130 - accuracy: 0.8531 - val_loss: 0.2323 - val_accuracy: 0.9027\n",
      "Epoch 17/20\n",
      "20/20 [==============================] - 31s 2s/step - loss: 0.3346 - accuracy: 0.8521 - val_loss: 0.2459 - val_accuracy: 0.8937\n",
      "Epoch 18/20\n",
      "20/20 [==============================] - 32s 2s/step - loss: 0.3203 - accuracy: 0.8597 - val_loss: 0.2272 - val_accuracy: 0.8997\n",
      "Epoch 19/20\n",
      "20/20 [==============================] - 32s 2s/step - loss: 0.3057 - accuracy: 0.8567 - val_loss: 0.2211 - val_accuracy: 0.9027\n",
      "Epoch 20/20\n",
      "20/20 [==============================] - 32s 2s/step - loss: 0.2935 - accuracy: 0.8697 - val_loss: 0.2246 - val_accuracy: 0.9040\n"
     ]
    }
   ],
   "source": [
    "modelHistory=predictmodel.fit(train_datagenerator,\n",
    "                                epochs=20,\n",
    "                                validation_data=test_datagenerator,\n",
    "                                validation_steps=20,\n",
    "                                steps_per_epoch=20\n",
    "                                )"
   ]
  },
  {
   "cell_type": "markdown",
   "id": "2a57e353",
   "metadata": {
    "papermill": {
     "duration": 0.229405,
     "end_time": "2022-04-08T13:52:26.664018",
     "exception": false,
     "start_time": "2022-04-08T13:52:26.434613",
     "status": "completed"
    },
    "tags": []
   },
   "source": [
    "# 6.plot accuracy."
   ]
  },
  {
   "cell_type": "code",
   "execution_count": 16,
   "id": "9b01810c",
   "metadata": {
    "execution": {
     "iopub.execute_input": "2022-04-08T13:52:27.185381Z",
     "iopub.status.busy": "2022-04-08T13:52:27.184438Z",
     "iopub.status.idle": "2022-04-08T13:52:27.187112Z",
     "shell.execute_reply": "2022-04-08T13:52:27.186679Z",
     "shell.execute_reply.started": "2022-04-08T13:23:36.144064Z"
    },
    "papermill": {
     "duration": 0.25296,
     "end_time": "2022-04-08T13:52:27.187230",
     "exception": false,
     "start_time": "2022-04-08T13:52:26.934270",
     "status": "completed"
    },
    "tags": []
   },
   "outputs": [],
   "source": [
    "def show_model_history(modelHistory, model_name):\n",
    "    history=pd.DataFrame()\n",
    "    history[\"Train Loss\"]=modelHistory.history['loss']\n",
    "    history[\"Validatin Loss\"]=modelHistory.history['val_loss']\n",
    "    history[\"Train Accuracy\"]=modelHistory.history['accuracy']\n",
    "    history[\"Validatin Accuracy\"]=modelHistory.history['val_accuracy']\n",
    "  \n",
    "    history.plot(figsize=(12,8))\n",
    "    plt.title(\" Convulutional Model {} Train and Validation Loss and Accuracy History\".format(model_name))\n",
    "    plt.show()"
   ]
  },
  {
   "cell_type": "code",
   "execution_count": 17,
   "id": "4fea8e1b",
   "metadata": {
    "execution": {
     "iopub.execute_input": "2022-04-08T13:52:27.521427Z",
     "iopub.status.busy": "2022-04-08T13:52:27.519578Z",
     "iopub.status.idle": "2022-04-08T13:52:27.785843Z",
     "shell.execute_reply": "2022-04-08T13:52:27.785342Z",
     "shell.execute_reply.started": "2022-04-08T12:26:14.319750Z"
    },
    "papermill": {
     "duration": 0.435562,
     "end_time": "2022-04-08T13:52:27.785988",
     "exception": false,
     "start_time": "2022-04-08T13:52:27.350426",
     "status": "completed"
    },
    "tags": []
   },
   "outputs": [
    {
     "name": "stdout",
     "output_type": "stream",
     "text": [
      "Train Accuracy:0.870\n",
      "Test Accuracy:0.904\n"
     ]
    },
    {
     "data": {
      "image/png": "[encoded data removed]",
      "text/plain": [
       "<Figure size 864x576 with 1 Axes>"
      ]
     },
     "metadata": {
      "needs_background": "light"
     },
     "output_type": "display_data"
    }
   ],
   "source": [
    "print(\"Train Accuracy:{:.3f}\".format(modelHistory.history['accuracy'][-1]))\n",
    "print(\"Test Accuracy:{:.3f}\".format(modelHistory.history['val_accuracy'][-1]))\n",
    "show_model_history(modelHistory=modelHistory, model_name=\"\")"
   ]
  },
  {
   "cell_type": "markdown",
   "id": "d8a3281f",
   "metadata": {
    "papermill": {
     "duration": 0.167483,
     "end_time": "2022-04-08T13:52:28.121741",
     "exception": false,
     "start_time": "2022-04-08T13:52:27.954258",
     "status": "completed"
    },
    "tags": []
   },
   "source": [
    "# 5.create model from scratch."
   ]
  },
  {
   "cell_type": "code",
   "execution_count": 18,
   "id": "37027565",
   "metadata": {
    "execution": {
     "iopub.execute_input": "2022-04-08T13:52:28.467747Z",
     "iopub.status.busy": "2022-04-08T13:52:28.466932Z",
     "iopub.status.idle": "2022-04-08T13:52:28.617491Z",
     "shell.execute_reply": "2022-04-08T13:52:28.617922Z",
     "shell.execute_reply.started": "2022-04-08T13:23:41.938105Z"
    },
    "papermill": {
     "duration": 0.330333,
     "end_time": "2022-04-08T13:52:28.618072",
     "exception": false,
     "start_time": "2022-04-08T13:52:28.287739",
     "status": "completed"
    },
    "tags": []
   },
   "outputs": [
    {
     "name": "stdout",
     "output_type": "stream",
     "text": [
      "Model: \"sequential\"\n",
      "_________________________________________________________________\n",
      "Layer (type)                 Output Shape              Param #   \n",
      "=================================================================\n",
      "conv2d (Conv2D)              (None, 148, 148, 32)      896       \n",
      "_________________________________________________________________\n",
      "conv2d_1 (Conv2D)            (None, 146, 146, 32)      9248      \n",
      "_________________________________________________________________\n",
      "batch_normalization (BatchNo (None, 146, 146, 32)      128       \n",
      "_________________________________________________________________\n",
      "max_pooling2d (MaxPooling2D) (None, 73, 73, 32)        0         \n",
      "_________________________________________________________________\n",
      "dropout (Dropout)            (None, 73, 73, 32)        0         \n",
      "_________________________________________________________________\n",
      "conv2d_2 (Conv2D)            (None, 71, 71, 64)        18496     \n",
      "_________________________________________________________________\n",
      "conv2d_3 (Conv2D)            (None, 69, 69, 64)        36928     \n",
      "_________________________________________________________________\n",
      "batch_normalization_1 (Batch (None, 69, 69, 64)        256       \n",
      "_________________________________________________________________\n",
      "max_pooling2d_1 (MaxPooling2 (None, 34, 34, 64)        0         \n",
      "_________________________________________________________________\n",
      "dropout_1 (Dropout)          (None, 34, 34, 64)        0         \n",
      "_________________________________________________________________\n",
      "conv2d_4 (Conv2D)            (None, 32, 32, 128)       73856     \n",
      "_________________________________________________________________\n",
      "conv2d_5 (Conv2D)            (None, 30, 30, 128)       147584    \n",
      "_________________________________________________________________\n",
      "batch_normalization_2 (Batch (None, 30, 30, 128)       512       \n",
      "_________________________________________________________________\n",
      "max_pooling2d_2 (MaxPooling2 (None, 15, 15, 128)       0         \n",
      "_________________________________________________________________\n",
      "dropout_2 (Dropout)          (None, 15, 15, 128)       0         \n",
      "_________________________________________________________________\n",
      "conv2d_6 (Conv2D)            (None, 13, 13, 64)        73792     \n",
      "_________________________________________________________________\n",
      "conv2d_7 (Conv2D)            (None, 11, 11, 64)        36928     \n",
      "_________________________________________________________________\n",
      "batch_normalization_3 (Batch (None, 11, 11, 64)        256       \n",
      "_________________________________________________________________\n",
      "max_pooling2d_3 (MaxPooling2 (None, 5, 5, 64)          0         \n",
      "_________________________________________________________________\n",
      "dropout_3 (Dropout)          (None, 5, 5, 64)          0         \n",
      "_________________________________________________________________\n",
      "flatten_1 (Flatten)          (None, 1600)              0         \n",
      "_________________________________________________________________\n",
      "dense_2 (Dense)              (None, 512)               819712    \n",
      "_________________________________________________________________\n",
      "dropout_4 (Dropout)          (None, 512)               0         \n",
      "_________________________________________________________________\n",
      "dense_3 (Dense)              (None, 1)                 513       \n",
      "=================================================================\n",
      "Total params: 1,219,105\n",
      "Trainable params: 1,218,529\n",
      "Non-trainable params: 576\n",
      "_________________________________________________________________\n"
     ]
    }
   ],
   "source": [
    "model=models.Sequential()\n",
    "model.add(layers.Conv2D(32, (3,3), activation=\"relu\", input_shape=(WIDTH, HEIGHT, 3)))\n",
    "model.add(layers.Conv2D(32, (3,3), activation=\"relu\"))\n",
    "model.add(layers.BatchNormalization())\n",
    "model.add(layers.MaxPooling2D((2,2)))\n",
    "model.add(layers.Dropout(0.25))\n",
    "\n",
    "model.add(layers.Conv2D(64, (3,3), activation=\"relu\"))\n",
    "model.add(layers.Conv2D(64, (3,3), activation=\"relu\"))\n",
    "model.add(layers.BatchNormalization())\n",
    "model.add(layers.MaxPooling2D(2,2))\n",
    "model.add(layers.Dropout(0.25))\n",
    "\n",
    "model.add(layers.Conv2D(128, (3,3), activation=\"relu\"))\n",
    "model.add(layers.Conv2D(128, (3,3), activation=\"relu\"))\n",
    "model.add(layers.BatchNormalization())\n",
    "model.add(layers.MaxPooling2D((2,2)))\n",
    "model.add(layers.Dropout(0.25))\n",
    "\n",
    "model.add(layers.Conv2D(64, (3,3), activation=\"relu\"))\n",
    "model.add(layers.Conv2D(64, (3,3), activation=\"relu\"))\n",
    "model.add(layers.BatchNormalization())\n",
    "model.add(layers.MaxPooling2D((2,2)))\n",
    "model.add(layers.Dropout(0.25))\n",
    "model.add(layers.Flatten())\n",
    "model.add(layers.Dense(512, activation=\"relu\"))\n",
    "model.add(layers.Dropout(0.5))\n",
    "model.add(layers.Dense(1, activation=\"sigmoid\"))\n",
    "model.summary()"
   ]
  },
  {
   "cell_type": "code",
   "execution_count": 19,
   "id": "af752098",
   "metadata": {
    "execution": {
     "iopub.execute_input": "2022-04-08T13:52:28.959515Z",
     "iopub.status.busy": "2022-04-08T13:52:28.957774Z",
     "iopub.status.idle": "2022-04-08T13:52:28.962748Z",
     "shell.execute_reply": "2022-04-08T13:52:28.962344Z",
     "shell.execute_reply.started": "2022-04-08T13:23:54.131872Z"
    },
    "papermill": {
     "duration": 0.179076,
     "end_time": "2022-04-08T13:52:28.962882",
     "exception": false,
     "start_time": "2022-04-08T13:52:28.783806",
     "status": "completed"
    },
    "tags": []
   },
   "outputs": [],
   "source": [
    "model.compile(loss = 'binary_crossentropy',  \n",
    "   optimizer = 'rmsprop', metrics=[\"accuracy\"])"
   ]
  },
  {
   "cell_type": "code",
   "execution_count": 20,
   "id": "a19d2d8d",
   "metadata": {
    "execution": {
     "iopub.execute_input": "2022-04-08T13:52:29.300454Z",
     "iopub.status.busy": "2022-04-08T13:52:29.299701Z",
     "iopub.status.idle": "2022-04-08T14:04:29.884815Z",
     "shell.execute_reply": "2022-04-08T14:04:29.885328Z",
     "shell.execute_reply.started": "2022-04-08T13:24:36.270344Z"
    },
    "papermill": {
     "duration": 720.755481,
     "end_time": "2022-04-08T14:04:29.885494",
     "exception": false,
     "start_time": "2022-04-08T13:52:29.130013",
     "status": "completed"
    },
    "tags": []
   },
   "outputs": [
    {
     "name": "stdout",
     "output_type": "stream",
     "text": [
      "Epoch 1/20\n",
      "20/20 [==============================] - 34s 2s/step - loss: 1.8881 - accuracy: 0.5550 - val_loss: 0.6950 - val_accuracy: 0.5183\n",
      "Epoch 2/20\n",
      "20/20 [==============================] - 31s 2s/step - loss: 0.8480 - accuracy: 0.5713 - val_loss: 0.7598 - val_accuracy: 0.4960\n",
      "Epoch 3/20\n",
      "20/20 [==============================] - 31s 2s/step - loss: 0.7549 - accuracy: 0.5683 - val_loss: 0.7365 - val_accuracy: 0.4943\n",
      "Epoch 4/20\n",
      "20/20 [==============================] - 31s 2s/step - loss: 0.7061 - accuracy: 0.5860 - val_loss: 0.7256 - val_accuracy: 0.4990\n",
      "Epoch 5/20\n",
      "20/20 [==============================] - 31s 2s/step - loss: 0.6888 - accuracy: 0.5990 - val_loss: 0.6909 - val_accuracy: 0.5243\n",
      "Epoch 6/20\n",
      "20/20 [==============================] - 32s 2s/step - loss: 0.6612 - accuracy: 0.6217 - val_loss: 0.7254 - val_accuracy: 0.5000\n",
      "Epoch 7/20\n",
      "20/20 [==============================] - 32s 2s/step - loss: 0.6585 - accuracy: 0.6337 - val_loss: 0.8596 - val_accuracy: 0.4980\n",
      "Epoch 8/20\n",
      "20/20 [==============================] - 32s 2s/step - loss: 0.6346 - accuracy: 0.6500 - val_loss: 0.7226 - val_accuracy: 0.5170\n",
      "Epoch 9/20\n",
      "20/20 [==============================] - 32s 2s/step - loss: 0.6061 - accuracy: 0.6710 - val_loss: 1.1804 - val_accuracy: 0.5003\n",
      "Epoch 10/20\n",
      "20/20 [==============================] - 32s 2s/step - loss: 0.6087 - accuracy: 0.6753 - val_loss: 0.8308 - val_accuracy: 0.4897\n",
      "Epoch 11/20\n",
      "20/20 [==============================] - 32s 2s/step - loss: 0.6038 - accuracy: 0.6823 - val_loss: 0.8461 - val_accuracy: 0.4947\n",
      "Epoch 12/20\n",
      "20/20 [==============================] - 32s 2s/step - loss: 0.5770 - accuracy: 0.6990 - val_loss: 1.1166 - val_accuracy: 0.4987\n",
      "Epoch 13/20\n",
      "20/20 [==============================] - 32s 2s/step - loss: 0.5710 - accuracy: 0.7123 - val_loss: 1.1549 - val_accuracy: 0.4900\n",
      "Epoch 14/20\n",
      "20/20 [==============================] - 31s 2s/step - loss: 0.5634 - accuracy: 0.7043 - val_loss: 1.0361 - val_accuracy: 0.4930\n",
      "Epoch 15/20\n",
      "20/20 [==============================] - 32s 2s/step - loss: 0.5479 - accuracy: 0.7310 - val_loss: 0.7594 - val_accuracy: 0.5013\n",
      "Epoch 16/20\n",
      "20/20 [==============================] - 31s 2s/step - loss: 0.5365 - accuracy: 0.7323 - val_loss: 0.7941 - val_accuracy: 0.4967\n",
      "Epoch 17/20\n",
      "20/20 [==============================] - 32s 2s/step - loss: 0.5157 - accuracy: 0.7477 - val_loss: 1.1824 - val_accuracy: 0.5060\n",
      "Epoch 18/20\n",
      "20/20 [==============================] - 32s 2s/step - loss: 0.5090 - accuracy: 0.7577 - val_loss: 0.7251 - val_accuracy: 0.5220\n",
      "Epoch 19/20\n",
      "20/20 [==============================] - 31s 2s/step - loss: 0.4990 - accuracy: 0.7573 - val_loss: 0.8977 - val_accuracy: 0.5237\n",
      "Epoch 20/20\n",
      "20/20 [==============================] - 32s 2s/step - loss: 0.4903 - accuracy: 0.7693 - val_loss: 0.8646 - val_accuracy: 0.5767\n"
     ]
    }
   ],
   "source": [
    "modelHistory1=model.fit(train_datagenerator,\n",
    "                                epochs=20,\n",
    "                                validation_data=test_datagenerator,\n",
    "                                validation_steps=20,\n",
    "                                steps_per_epoch=20\n",
    "                                )"
   ]
  },
  {
   "cell_type": "code",
   "execution_count": 21,
   "id": "c33bf5a1",
   "metadata": {
    "execution": {
     "iopub.execute_input": "2022-04-08T14:04:30.525304Z",
     "iopub.status.busy": "2022-04-08T14:04:30.505755Z",
     "iopub.status.idle": "2022-04-08T14:04:30.739300Z",
     "shell.execute_reply": "2022-04-08T14:04:30.739710Z",
     "shell.execute_reply.started": "2022-04-08T13:38:12.185352Z"
    },
    "papermill": {
     "duration": 0.549315,
     "end_time": "2022-04-08T14:04:30.739864",
     "exception": false,
     "start_time": "2022-04-08T14:04:30.190549",
     "status": "completed"
    },
    "tags": []
   },
   "outputs": [
    {
     "name": "stdout",
     "output_type": "stream",
     "text": [
      "Train Accuracy:0.769\n",
      "Test Accuracy:0.577\n"
     ]
    },
    {
     "data": {
      "image/png": "[encoded data removed]",
      "text/plain": [
       "<Figure size 864x576 with 1 Axes>"
      ]
     },
     "metadata": {
      "needs_background": "light"
     },
     "output_type": "display_data"
    }
   ],
   "source": [
    "print(\"Train Accuracy:{:.3f}\".format(modelHistory1.history['accuracy'][-1]))\n",
    "print(\"Test Accuracy:{:.3f}\".format(modelHistory1.history['val_accuracy'][-1]))\n",
    "show_model_history(modelHistory=modelHistory1, model_name=\"\")"
   ]
  }
 ],
 "metadata": {
  "kernelspec": {
   "display_name": "Python 3",
   "language": "python",
   "name": "python3"
  },
  "language_info": {
   "codemirror_mode": {
    "name": "ipython",
    "version": 3
   },
   "file_extension": ".py",
   "mimetype": "text/x-python",
   "name": "python",
   "nbconvert_exporter": "python",
   "pygments_lexer": "ipython3",
   "version": "3.7.12"
  },
  "papermill": {
   "default_parameters": {},
   "duration": 1529.137413,
   "end_time": "2022-04-08T14:04:34.145731",
   "environment_variables": {},
   "exception": null,
   "input_path": "__notebook__.ipynb",
   "output_path": "__notebook__.ipynb",
   "parameters": {},
   "start_time": "2022-04-08T13:39:05.008318",
   "version": "2.3.3"
  }
 },
 "nbformat": 4,
 "nbformat_minor": 5
}
